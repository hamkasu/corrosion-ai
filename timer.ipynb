{
  "cells": [
    {
      "cell_type": "markdown",
      "metadata": {
        "id": "view-in-github",
        "colab_type": "text"
      },
      "source": [
        "<a href=\"https://colab.research.google.com/github/hamkasu/corrosion-ai/blob/main/timer.ipynb\" target=\"_parent\"><img src=\"https://colab.research.google.com/assets/colab-badge.svg\" alt=\"Open In Colab\"/></a>"
      ]
    },
    {
      "cell_type": "code",
      "execution_count": null,
      "metadata": {
        "id": "Lr1RyGXFCG6O",
        "colab": {
          "base_uri": "https://localhost:8080/"
        },
        "outputId": "765ae27d-f634-4a41-b76e-339e1e8b98b8"
      },
      "outputs": [
        {
          "output_type": "stream",
          "name": "stdout",
          "text": [
            "Starting long-running task for 43200 seconds...\n",
            "Task running... Elapsed: 0.00s\n"
          ]
        }
      ],
      "source": [
        "import time\n",
        "\n",
        "def long_running_task(duration_seconds):\n",
        "    print(f\"Starting long-running task for {duration_seconds} seconds...\")\n",
        "    start_time = time.time()\n",
        "    while True:\n",
        "        elapsed_time = time.time() - start_time\n",
        "        if elapsed_time >= duration_seconds:\n",
        "            break\n",
        "        print(f\"Task running... Elapsed: {elapsed_time:.2f}s\")\n",
        "        time.sleep(60) # Sleep for a minute to reduce CPU usage and log progress\n",
        "\n",
        "    print(\"Long-running task completed.\")\n",
        "\n",
        "# Example usage: Run a task for 2 hours (7200 seconds)\n",
        "long_running_task(43200)"
      ]
    }
  ],
  "metadata": {
    "colab": {
      "provenance": [],
      "mount_file_id": "18QD_CamHnNLXHKdBGtvjlACMkqvUA_33",
      "authorship_tag": "ABX9TyMHBmkHSgCG8hEsHNbUfbY6",
      "include_colab_link": true
    },
    "kernelspec": {
      "display_name": "Python 3",
      "name": "python3"
    },
    "language_info": {
      "name": "python"
    }
  },
  "nbformat": 4,
  "nbformat_minor": 0
}